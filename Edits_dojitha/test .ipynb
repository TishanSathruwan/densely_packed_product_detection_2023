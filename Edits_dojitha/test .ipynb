{
 "cells": [
  {
   "cell_type": "code",
   "execution_count": null,
   "metadata": {},
   "outputs": [],
   "source": [
    "print(\"hello world\")"
   ]
  },
  {
   "cell_type": "markdown",
   "metadata": {},
   "source": [
    "# 🛍️ SKU110K Dataset\n",
    "\n",
    "Here you will find the images and annotations (labels) for the SKU110K dataset. Also included is a notebook containing the process to download the SKU110K dataset and convert the annotations to a variety of formats (e.g., YOLOv5).\n",
    "\n",
    "## Files\n",
    "\n",
    "This dataset contains the labels comprising the bounding boxes (only one class for all detections), as well as all images for the SKU110K dataset. The included notebook is meant to be run locally, and the code shows how to use the Kaggle CLI for downloading the images to their corresponding location.\n",
    "\n",
    "In order to use YOLOv5, the included notebook shows how to save the annotations in the correct format:\n",
    "- One row per object\n",
    "- Each row is `class` &nbsp; `x_center` &nbsp; `y_center` &nbsp; `width` &nbsp; `height` format\n",
    "- Box coordinates must be in **normalized xywh** format (from 0 - 1). If your boxes are in pixels:\n",
    "    - Divide `x_center` and `width` by image width\n",
    "    - Divive `y_center` and `height` by image height\n",
    "- Class numbers are zero-indexed (start from 0)\n",
    "\n",
    "Although the included annotations use my preferred directory structure for organization (as detailed below), they can all be contained in a single file as well.\n",
    "\n",
    "    .\n",
    "    ├── convert_yolov5.ipynb\n",
    "    ├── data_kaggle.yaml\n",
    "    ├── README.md\n",
    "    ├── SKU110K_fixed    \n",
    "        ├── images\n",
    "            ├── test\n",
    "            ├── train\n",
    "            ├── val\n",
    "        ├── labels\n",
    "            ├── test\n",
    "            ├── train\n",
    "            ├── val\n",
    "\n",
    "## Acknowledgements\n",
    "\n",
    "I'd love to acknowledge the original authors: https://github.com/eg4000/SKU110K_CVPR19\n",
    "\n",
    "---\n",
    "\n",
    "🐞 If you find any bugs or have any questions regarding these notebooks, please open an issue. I'll address it as soon as I can. \n",
    "\n",
    "🐦 Reach out on [Twitter](https://twitter.com/datasith) if you have any questions. \n",
    "\n",
    "🔗 Please cite the original authors if you use this version of the dataset for your work."
   ]
  },
  {
   "cell_type": "markdown",
   "metadata": {},
   "source": []
  }
 ],
 "metadata": {
  "language_info": {
   "name": "python"
  }
 },
 "nbformat": 4,
 "nbformat_minor": 2
}
